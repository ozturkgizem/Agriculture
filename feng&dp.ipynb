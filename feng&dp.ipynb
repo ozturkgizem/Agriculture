{
  "nbformat": 4,
  "nbformat_minor": 0,
  "metadata": {
    "colab": {
      "provenance": [],
      "authorship_tag": "ABX9TyOhZ+NGKxOfucy76G26KOFC",
      "include_colab_link": true
    },
    "kernelspec": {
      "name": "python3",
      "display_name": "Python 3"
    },
    "language_info": {
      "name": "python"
    }
  },
  "cells": [
    {
      "cell_type": "markdown",
      "metadata": {
        "id": "view-in-github",
        "colab_type": "text"
      },
      "source": [
        "<a href=\"https://colab.research.google.com/github/ozturkgizem/Agriculture/blob/main/feng%26dp.ipynb\" target=\"_parent\"><img src=\"https://colab.research.google.com/assets/colab-badge.svg\" alt=\"Open In Colab\"/></a>"
      ]
    },
    {
      "cell_type": "code",
      "source": [
        "import numpy as np\n",
        "import pandas as pd\n",
        "import matplotlib.pyplot as plt\n",
        "import seaborn as sns\n",
        "\n",
        "from sklearn.ensemble import RandomForestClassifier, GradientBoostingClassifier, VotingClassifier, AdaBoostClassifier\n",
        "from sklearn.linear_model import LogisticRegression\n",
        "from sklearn.neighbors import KNeighborsClassifier\n",
        "from sklearn.svm import SVC\n",
        "from sklearn.tree import DecisionTreeClassifier\n",
        "from xgboost import XGBClassifier\n",
        "from lightgbm import LGBMClassifier\n",
        "\n",
        "from sklearn.preprocessing import MinMaxScaler, StandardScaler, LabelEncoder\n",
        "from sklearn.metrics import accuracy_score, precision_score, recall_score, f1_score, roc_auc_score,confusion_matrix, classification_report\n",
        "from sklearn.model_selection import GridSearchCV, cross_validate, train_test_split\n",
        "\n",
        "pd.set_option('display.max_columns', None)\n",
        "pd.set_option('display.max_rows', None)\n",
        "pd.set_option('display.float_format', lambda x: '%.3f' % x)\n",
        "pd.set_option('display.width', 500)"
      ],
      "metadata": {
        "id": "n0cnKFkuaeIM"
      },
      "execution_count": 24,
      "outputs": []
    },
    {
      "cell_type": "code",
      "source": [
        "import warnings\n",
        "warnings.simplefilter('ignore')\n",
        "warnings.filterwarnings('ignore')"
      ],
      "metadata": {
        "id": "xp2HT3GVafBA"
      },
      "execution_count": 3,
      "outputs": []
    },
    {
      "cell_type": "code",
      "source": [
        "df = pd.read_csv(\"Crop_recommendation.csv\")"
      ],
      "metadata": {
        "id": "RDU96s8xaXY9"
      },
      "execution_count": 4,
      "outputs": []
    },
    {
      "cell_type": "markdown",
      "source": [
        "**FEATURE ENG & DATA PROCESSING**"
      ],
      "metadata": {
        "id": "C8YQVW5tGAQb"
      }
    },
    {
      "cell_type": "code",
      "source": [
        "def grab_col_names(dataframe, cat_th=10, car_th=20):\n",
        "    \"\"\"\n",
        "\n",
        "    Veri setindeki kategorik, numerik ve kategorik fakat kardinal değişkenlerin isimlerini verir.\n",
        "    Not: Kategorik değişkenlerin içerisine numerik görünümlü kategorik değişkenler de dahildir.\n",
        "\n",
        "    Parameters\n",
        "    ------\n",
        "        dataframe: dataframe\n",
        "                Değişken isimleri alınmak istenilen dataframe\n",
        "        cat_th: int, optional\n",
        "                numerik fakat kategorik olan değişkenler için sınıf eşik değeri\n",
        "        car_th: int, optinal\n",
        "                kategorik fakat kardinal değişkenler için sınıf eşik değeri\n",
        "\n",
        "    Returns\n",
        "    ------\n",
        "        cat_cols: list\n",
        "                Kategorik değişken listesi\n",
        "        num_cols: list\n",
        "                Numerik değişken listesi\n",
        "        cat_but_car: list\n",
        "                Kategorik görünümlü kardinal değişken listesi\n",
        "\n",
        "    Examples\n",
        "    ------\n",
        "        import seaborn as sns\n",
        "        df = sns.load_dataset(\"iris\")\n",
        "        print(grab_col_names(df))\n",
        "\n",
        "\n",
        "    Notes\n",
        "    ------\n",
        "        cat_cols + num_cols + cat_but_car = toplam değişken sayısı\n",
        "        num_but_cat cat_cols'un içerisinde.\n",
        "        Return olan 3 liste toplamı toplam değişken sayısına eşittir: cat_cols + num_cols + cat_but_car = değişken sayısı\n",
        "\n",
        "    \"\"\"\n",
        "\n",
        "    # cat_cols, cat_but_car\n",
        "    cat_cols = [col for col in dataframe.columns if dataframe[col].dtypes == \"O\"]\n",
        "    num_but_cat = [col for col in dataframe.columns if dataframe[col].nunique() < cat_th and\n",
        "                   dataframe[col].dtypes != \"O\"]\n",
        "    cat_but_car = [col for col in dataframe.columns if dataframe[col].nunique() > car_th and\n",
        "                   dataframe[col].dtypes == \"O\"]\n",
        "    cat_cols = cat_cols + num_but_cat\n",
        "    cat_cols = [col for col in cat_cols if col not in cat_but_car]\n",
        "\n",
        "    # num_cols\n",
        "    num_cols = [col for col in dataframe.columns if dataframe[col].dtypes != \"O\"]\n",
        "    num_cols = [col for col in num_cols if col not in num_but_cat]\n",
        "\n",
        "    # print(f\"Observations: {dataframe.shape[0]}\")\n",
        "    # print(f\"Variables: {dataframe.shape[1]}\")\n",
        "    # print(f'cat_cols: {len(cat_cols)}')\n",
        "    # print(f'num_cols: {len(num_cols)}')\n",
        "    # print(f'cat_but_car: {len(cat_but_car)}')\n",
        "    # print(f'num_but_cat: {len(num_but_cat)}')\n",
        "    return cat_cols, num_cols, cat_but_car"
      ],
      "metadata": {
        "id": "ATFl7UCOHJqo"
      },
      "execution_count": 5,
      "outputs": []
    },
    {
      "cell_type": "code",
      "source": [
        "def outlier_thresholds(dataframe, col_name, q1=0.05, q3=0.95):\n",
        "    quartile1 = dataframe[col_name].quantile(q1)\n",
        "    quartile3 = dataframe[col_name].quantile(q3)\n",
        "    interquantile_range = quartile3 - quartile1\n",
        "    up_limit = quartile3 + 1.5 * interquantile_range\n",
        "    low_limit = quartile1 - 1.5 * interquantile_range\n",
        "    return low_limit, up_limit\n",
        "\n",
        "def check_outlier(dataframe, col_name):\n",
        "    low_limit, up_limit = outlier_thresholds(dataframe, col_name)\n",
        "    if dataframe[(dataframe[col_name] > up_limit) | (dataframe[col_name] < low_limit)].any(axis=None):\n",
        "        return True\n",
        "    else:\n",
        "        return False\n",
        "\n",
        "def replace_with_thresholds(dataframe, variable):\n",
        "    low_limit, up_limit = outlier_thresholds(dataframe, variable)\n",
        "    dataframe.loc[(dataframe[variable] < low_limit), variable] = low_limit\n",
        "    dataframe.loc[(dataframe[variable] > up_limit), variable] = up_limit"
      ],
      "metadata": {
        "id": "XGzFBF4xWdFK"
      },
      "execution_count": 6,
      "outputs": []
    },
    {
      "cell_type": "code",
      "source": [
        "def crop_recommendation_data_prep(dataframe):\n",
        "\n",
        "    dataframe = df\n",
        "    dataframe.columns = [col.upper() for col in dataframe.columns]\n",
        "\n",
        "    print(df.describe().T)\n",
        "    ##1: CROP SUITABILITY INDICES\n",
        "\n",
        "    cat_cols, num_cols, cat_but_car = grab_col_names(dataframe)\n",
        "\n",
        "    def crop_suitability_indices(crop, col):\n",
        "        low_limit, up_limit = outlier_thresholds(dataframe[dataframe[\"LABEL\"] == crop], col)\n",
        "        dataframe.loc[(dataframe[\"LABEL\"] == crop) & (dataframe[col] >= low_limit) & (dataframe[col] <= up_limit), f\"NEW_{col.upper()}_OPTIMAL\"] = 1\n",
        "        dataframe.loc[(dataframe[\"LABEL\"] == crop) & (dataframe[col] < low_limit) | (dataframe[col] > up_limit), f\"NEW_{col.upper()}_OPTIMAL\"] = 0\n",
        "\n",
        "    for crop in dataframe[\"LABEL\"].unique():\n",
        "        for col in num_cols:\n",
        "            crop_suitability_indices(crop, col)\n",
        "\n",
        "    ##2: NUTRIENT BALANCE INDEX (NBI)\n",
        "\n",
        "    dataframe[\"N/K\"]= dataframe[\"N\"] / dataframe[\"K\"]\n",
        "    dataframe[\"N/P\"] = dataframe[\"N\"] / dataframe[\"P\"]\n",
        "    dataframe[\"P/K\"] = dataframe[\"P\"] / dataframe[\"K\"]\n",
        "\n",
        "    ratios = [\"N/K\",\"N/P\",\"P/K\"]\n",
        "    dataframe[ratios] = MinMaxScaler().fit_transform(dataframe[ratios])\n",
        "\n",
        "    dataframe[\"NEW_NBI\"] = np.sqrt(dataframe[\"N/K\"] * dataframe[\"N/P\"] * dataframe[\"P/K\"])\n",
        "    dataframe.drop(ratios, axis=1, inplace=True)\n",
        "\n",
        "    ##3: CATEGORIZE BY PH LEVELS\n",
        "\n",
        "    dataframe.loc[dataframe[\"PH\"] < 7, \"NEW_PH_CAT\"] = \"acidic\"\n",
        "    dataframe.loc[dataframe[\"PH\"] > 7, \"NEW_PH_CAT\"] = \"alkaline\"\n",
        "    dataframe.loc[dataframe[\"PH\"] == 7, \"NEW_PH_CAT\"] = \"neutral\"\n",
        "    dataframe.loc[(dataframe[\"PH\"] >= 5.5) & (dataframe[\"PH\"] <= 6.5), \"NEW_PH_CAT\"] = \"optimal\"\n",
        "\n",
        "    ##4: CATEGORIZE BY RAINFALL\n",
        "    #sns.catplot(data=df, x='label', y=\"rainfall\", kind='box', height=10, aspect=22/8)\n",
        "    #plt.title(f\"{col}\", size=12)\n",
        "    #plt.xticks(rotation='vertical')\n",
        "    #plt.show()\n",
        "\n",
        "    #df[\"rainfall\"].describe([0.10,0.20,0.30,0.33,0.40,0.50,0.60,0.66,0.70,0.75,0.80,0.90,0.99])\n",
        "\n",
        "    dataframe[\"NEW_RAINFALL_CAT\"] = pd.cut(x=dataframe[\"RAINFALL\"], bins=[0, 44, 71, 111, 188, 300], labels=[\"extreme_low\", \"low\", \"medium\", \"high\", \"extreme_high\"])\n",
        "\n",
        "    print(\"4\")\n",
        "    print(dataframe.head(5))\n",
        "\n",
        "\n",
        "    cat_cols, num_cols, cat_but_car = grab_col_names(dataframe)\n",
        "    ##5. ONE HOT ENCODER\n",
        "    def one_hot_encoder(dataframe, categorical_cols, drop_first=False):\n",
        "        dff = pd.get_dummies(dataframe, columns=categorical_cols, drop_first=drop_first, dtype=int)\n",
        "        return dff\n",
        "\n",
        "\n",
        "    df.columns = [col.upper() for col in df.columns]\n",
        "    cat_cols, num_cols, cat_but_car = grab_col_names(df, cat_th=6, car_th=20)\n",
        "    cat_cols = [col for col in cat_cols if \"LABEL\" not in col]\n",
        "\n",
        "    print()\n",
        "    print(cat_cols)\n",
        "    print(num_cols)\n",
        "    print(cat_but_car)\n",
        "    print()\n",
        "\n",
        "    dff = one_hot_encoder(dataframe, cat_cols, drop_first=True)\n",
        "\n",
        "    cat_cols, num_cols, cat_but_car = grab_col_names(df, cat_th=6, car_th=20)\n",
        "    cat_cols = [col for col in cat_cols if \"LABEL\" not in col]\n",
        "\n",
        "    print(cat_cols)\n",
        "    print(num_cols)\n",
        "    print(cat_but_car)\n",
        "\n",
        "    X_scaled = StandardScaler().fit_transform(dff[num_cols])\n",
        "    dff[num_cols] = pd.DataFrame(X_scaled, columns=dff[num_cols].columns)\n",
        "\n",
        "    y = LabelEncoder().fit_transform(dff[\"LABEL\"])\n",
        "    X = dff.drop([\"LABEL\"], axis=1)\n",
        "\n",
        "    return X, y"
      ],
      "metadata": {
        "id": "7APPWjmCF_1j"
      },
      "execution_count": 7,
      "outputs": []
    },
    {
      "cell_type": "code",
      "source": [
        "X, y = crop_recommendation_data_prep(df)"
      ],
      "metadata": {
        "id": "fYgMiVfKGbFQ",
        "colab": {
          "base_uri": "https://localhost:8080/"
        },
        "outputId": "42e0377c-2196-4ba9-af70-0b5254232990"
      },
      "execution_count": 16,
      "outputs": [
        {
          "output_type": "stream",
          "name": "stdout",
          "text": [
            "                           count    mean    std    min    25%    50%     75%     max\n",
            "N                       2200.000  50.552 36.917  0.000 21.000 37.000  84.250 140.000\n",
            "P                       2200.000  53.363 32.986  5.000 28.000 51.000  68.000 145.000\n",
            "K                       2200.000  48.149 50.648  5.000 20.000 32.000  49.000 205.000\n",
            "TEMPERATURE             2200.000  25.616  5.064  8.826 22.769 25.599  28.562  43.675\n",
            "HUMIDITY                2200.000  71.482 22.264 14.258 60.262 80.473  89.949  99.982\n",
            "PH                      2200.000   6.469  0.774  3.505  5.972  6.425   6.924   9.935\n",
            "RAINFALL                2200.000 103.464 54.958 20.211 64.552 94.868 124.268 298.560\n",
            "NEW_N_OPTIMAL           2200.000   0.871  0.335  0.000  1.000  1.000   1.000   1.000\n",
            "NEW_P_OPTIMAL           2200.000   0.685  0.464  0.000  0.000  1.000   1.000   1.000\n",
            "NEW_K_OPTIMAL           2200.000   0.569  0.495  0.000  0.000  1.000   1.000   1.000\n",
            "NEW_TEMPERATURE_OPTIMAL 2200.000   0.710  0.454  0.000  0.000  1.000   1.000   1.000\n",
            "NEW_HUMIDITY_OPTIMAL    2200.000   0.709  0.454  0.000  0.000  1.000   1.000   1.000\n",
            "NEW_PH_OPTIMAL          2200.000   0.905  0.294  0.000  1.000  1.000   1.000   1.000\n",
            "NEW_RAINFALL_OPTIMAL    2200.000   0.349  0.477  0.000  0.000  0.000   1.000   1.000\n",
            "NEW_NBI                 2200.000   0.044  0.041  0.000  0.014  0.036   0.056   0.254\n",
            "4\n",
            "    N   P   K  TEMPERATURE  HUMIDITY    PH  RAINFALL LABEL  NEW_N_OPTIMAL  NEW_P_OPTIMAL  NEW_K_OPTIMAL  NEW_TEMPERATURE_OPTIMAL  NEW_HUMIDITY_OPTIMAL  NEW_PH_OPTIMAL  NEW_RAINFALL_OPTIMAL  NEW_NBI NEW_PH_CAT NEW_RAINFALL_CAT  NEW_NEW_NBI_OPTIMAL\n",
            "0  90  42  43       20.880    82.003 6.503   202.936  rice          0.000          1.000          0.000                    1.000                 0.000           1.000                 0.000    0.055     acidic     extreme_high                0.000\n",
            "1  85  58  41       21.770    80.320 7.038   226.656  rice          1.000          1.000          0.000                    1.000                 0.000           0.000                 0.000    0.055   alkaline     extreme_high                0.000\n",
            "2  60  55  44       23.004    82.321 7.840   263.964  rice          1.000          1.000          0.000                    1.000                 0.000           0.000                 0.000    0.036   alkaline     extreme_high                0.000\n",
            "3  74  35  40       26.491    80.158 6.980   242.864  rice          1.000          1.000          0.000                    0.000                 0.000           0.000                 0.000    0.048     acidic     extreme_high                0.000\n",
            "4  78  42  42       20.130    81.605 7.628   262.717  rice          1.000          1.000          0.000                    1.000                 0.000           0.000                 0.000    0.049   alkaline     extreme_high                0.000\n",
            "\n",
            "['NEW_PH_CAT', 'NEW_N_OPTIMAL', 'NEW_P_OPTIMAL', 'NEW_K_OPTIMAL', 'NEW_TEMPERATURE_OPTIMAL', 'NEW_HUMIDITY_OPTIMAL', 'NEW_PH_OPTIMAL', 'NEW_RAINFALL_OPTIMAL', 'NEW_RAINFALL_CAT', 'NEW_NEW_NBI_OPTIMAL']\n",
            "['N', 'P', 'K', 'TEMPERATURE', 'HUMIDITY', 'PH', 'RAINFALL', 'NEW_NBI']\n",
            "['LABEL']\n",
            "\n",
            "['NEW_PH_CAT', 'NEW_N_OPTIMAL', 'NEW_P_OPTIMAL', 'NEW_K_OPTIMAL', 'NEW_TEMPERATURE_OPTIMAL', 'NEW_HUMIDITY_OPTIMAL', 'NEW_PH_OPTIMAL', 'NEW_RAINFALL_OPTIMAL', 'NEW_RAINFALL_CAT', 'NEW_NEW_NBI_OPTIMAL']\n",
            "['N', 'P', 'K', 'TEMPERATURE', 'HUMIDITY', 'PH', 'RAINFALL', 'NEW_NBI']\n",
            "['LABEL']\n"
          ]
        }
      ]
    },
    {
      "cell_type": "code",
      "source": [
        "def base_models(X, y, scoring=\"roc_auc\"):\n",
        "    print(\"Base Models....\")\n",
        "    classifiers = [('LR', LogisticRegression()),\n",
        "                   ('KNN', KNeighborsClassifier()),\n",
        "                   (\"SVC\", SVC()),\n",
        "                   (\"CART\", DecisionTreeClassifier()),\n",
        "                   (\"RF\", RandomForestClassifier()),\n",
        "                   ('Adaboost', AdaBoostClassifier()),\n",
        "                   ('GBM', GradientBoostingClassifier()),\n",
        "                   ('XGBoost', XGBClassifier(use_label_encoder=False, eval_metric='logloss')),\n",
        "                   ('LightGBM', LGBMClassifier()),\n",
        "                   # ('CatBoost', CatBoostClassifier(verbose=False))\n",
        "                   ]\n",
        "    for name, classifier in classifiers:\n",
        "        cv_results = cross_validate(classifier, X, y, cv=3, scoring=scoring)\n",
        "        print(f\"{scoring}: {round(cv_results['test_score'].mean(), 4)} ({name}) \")"
      ],
      "metadata": {
        "id": "Rl7e5Q3HGYo6"
      },
      "execution_count": 9,
      "outputs": []
    },
    {
      "cell_type": "code",
      "source": [
        "base_models(X,y)"
      ],
      "metadata": {
        "id": "V-tptqG8GejS"
      },
      "execution_count": null,
      "outputs": []
    },
    {
      "cell_type": "code",
      "source": [
        "y_prob = log_model.predict_proba(X)\n",
        "roc_auc = roc_auc_score(y ,y_prob, multi_class='ovr')\n",
        "print(roc_auc)"
      ],
      "metadata": {
        "colab": {
          "base_uri": "https://localhost:8080/"
        },
        "id": "SSXC_nOteJrU",
        "outputId": "8fd3fe0f-c16c-47e5-aac7-5f83e1307f38"
      },
      "execution_count": 14,
      "outputs": [
        {
          "output_type": "stream",
          "name": "stdout",
          "text": [
            "0.9999584415584415\n"
          ]
        }
      ]
    },
    {
      "cell_type": "code",
      "source": [
        "log_model = LogisticRegression().fit(X, y)\n",
        "y_pred = log_model.predict(X)"
      ],
      "metadata": {
        "id": "kU6N0it8cNLM"
      },
      "execution_count": 17,
      "outputs": []
    },
    {
      "cell_type": "code",
      "source": [],
      "metadata": {
        "id": "sSqh0b5SetqR"
      },
      "execution_count": null,
      "outputs": []
    },
    {
      "cell_type": "code",
      "source": [
        "def plot_confusion_matrix(y, y_pred):\n",
        "    acc = round(accuracy_score(y, y_pred), 2)\n",
        "    cm = confusion_matrix(y, y_pred)\n",
        "    sns.heatmap(cm, annot=True, fmt=\".0f\")\n",
        "    plt.xlabel('y_pred')\n",
        "    plt.ylabel('y')\n",
        "    plt.title('Accuracy Score: {0}'.format(acc), size=10)\n",
        "    plt.show()"
      ],
      "metadata": {
        "id": "48iotw4Ed1d0"
      },
      "execution_count": 20,
      "outputs": []
    },
    {
      "cell_type": "code",
      "source": [
        "plot_confusion_matrix(y, y_pred)\n",
        "print(classification_report(y, y_pred))"
      ],
      "metadata": {
        "colab": {
          "base_uri": "https://localhost:8080/",
          "height": 972
        },
        "id": "aHhYpNqwd43H",
        "outputId": "88e286b5-078a-4d3a-87f4-92cae546a361"
      },
      "execution_count": 25,
      "outputs": [
        {
          "output_type": "display_data",
          "data": {
            "text/plain": [
              "<Figure size 640x480 with 2 Axes>"
            ],
            "image/png": "[encoded data removed]"
          },
          "metadata": {}
        },
        {
          "output_type": "stream",
          "name": "stdout",
          "text": [
            "              precision    recall  f1-score   support\n",
            "\n",
            "           0       1.00      1.00      1.00       100\n",
            "           1       1.00      1.00      1.00       100\n",
            "           2       0.95      0.98      0.97       100\n",
            "           3       1.00      1.00      1.00       100\n",
            "           4       1.00      1.00      1.00       100\n",
            "           5       1.00      0.99      0.99       100\n",
            "           6       1.00      1.00      1.00       100\n",
            "           7       1.00      1.00      1.00       100\n",
            "           8       0.99      1.00      1.00       100\n",
            "           9       0.99      1.00      1.00       100\n",
            "          10       0.98      0.91      0.94       100\n",
            "          11       1.00      1.00      1.00       100\n",
            "          12       0.98      1.00      0.99       100\n",
            "          13       0.96      0.96      0.96       100\n",
            "          14       0.98      1.00      0.99       100\n",
            "          15       0.97      1.00      0.99       100\n",
            "          16       1.00      1.00      1.00       100\n",
            "          17       1.00      1.00      1.00       100\n",
            "          18       0.99      0.98      0.98       100\n",
            "          19       1.00      1.00      1.00       100\n",
            "          20       1.00      1.00      1.00       100\n",
            "          21       1.00      0.97      0.98       100\n",
            "\n",
            "    accuracy                           0.99      2200\n",
            "   macro avg       0.99      0.99      0.99      2200\n",
            "weighted avg       0.99      0.99      0.99      2200\n",
            "\n"
          ]
        }
      ]
    },
    {
      "cell_type": "code",
      "source": [
        "def check_df(dataframe, head=5):\n",
        "    print(\"##################### Shape #####################\")\n",
        "    print(dataframe.shape)\n",
        "    print(\"##################### Types #####################\")\n",
        "    print(dataframe.dtypes)\n",
        "    print(\"##################### Head #####################\")\n",
        "    print(dataframe.head(head))\n",
        "    print(\"##################### Tail #####################\")\n",
        "    print(dataframe.tail(head))\n",
        "    print(\"##################### NA #####################\")\n",
        "    print(dataframe.isnull().sum())\n",
        "    print(\"##################### Quantiles #####################\")\n",
        "    print(dataframe.quantile([0, 0.05, 0.50, 0.95, 0.99, 1]).T)"
      ],
      "metadata": {
        "id": "uy0sD_RzNir5"
      },
      "execution_count": null,
      "outputs": []
    },
    {
      "cell_type": "code",
      "source": [
        "check_df(df)"
      ],
      "metadata": {
        "id": "jYdLoolZNqmy"
      },
      "execution_count": null,
      "outputs": []
    },
    {
      "cell_type": "code",
      "source": [],
      "metadata": {
        "id": "q5IthsZPNroR"
      },
      "execution_count": null,
      "outputs": []
    }
  ]
}