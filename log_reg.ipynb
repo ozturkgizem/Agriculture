{
  "nbformat": 4,
  "nbformat_minor": 0,
  "metadata": {
    "colab": {
      "provenance": [],
      "authorship_tag": "ABX9TyP3Xb4Sd+kpuhb5gDvsco4d",
      "include_colab_link": true
    },
    "kernelspec": {
      "name": "python3",
      "display_name": "Python 3"
    },
    "language_info": {
      "name": "python"
    }
  },
  "cells": [
    {
      "cell_type": "markdown",
      "metadata": {
        "id": "view-in-github",
        "colab_type": "text"
      },
      "source": [
        "<a href=\"https://colab.research.google.com/github/ozturkgizem/Agriculture/blob/main/log_reg.ipynb\" target=\"_parent\"><img src=\"https://colab.research.google.com/assets/colab-badge.svg\" alt=\"Open In Colab\"/></a>"
      ]
    },
    {
      "cell_type": "markdown",
      "source": [
        "# **Logistic Regression**\n",
        "\n",
        "1. Exploratory Data Analysis\n",
        "2. Data Preprocessing\n",
        "3. Model & Prediction\n",
        "4. Model Evaluation\n",
        "5. Model Validation: Holdout\n",
        "6. Model Validation: 10-Fold Cross Validation\n",
        "7. Prediction for A New Observation"
      ],
      "metadata": {
        "id": "DBhY9KJFf3Dv"
      }
    },
    {
      "cell_type": "code",
      "source": [
        "import matplotlib.pyplot as plt\n",
        "import numpy as np\n",
        "import pandas as pd\n",
        "import seaborn as sns\n",
        "import sklearn\n",
        "\n",
        "from sklearn.preprocessing import RobustScaler\n",
        "from sklearn.linear_model import LogisticRegression\n",
        "from sklearn.metrics import accuracy_score, roc_auc_score, confusion_matrix, classification_report, RocCurveDisplay\n",
        "from sklearn.model_selection import train_test_split, cross_validate"
      ],
      "metadata": {
        "id": "Iwo_VkrZfny3"
      },
      "execution_count": 55,
      "outputs": []
    },
    {
      "cell_type": "code",
      "source": [
        "import warnings\n",
        "warnings.simplefilter('ignore')"
      ],
      "metadata": {
        "id": "xp2HT3GVafBA"
      },
      "execution_count": 5,
      "outputs": []
    },
    {
      "cell_type": "markdown",
      "source": [
        "**EDA**"
      ],
      "metadata": {
        "id": "3TMESb0YaMhv"
      }
    },
    {
      "cell_type": "code",
      "source": [
        "df= pd.read_csv(\"Crop_recommendation.csv\")"
      ],
      "metadata": {
        "id": "QxQGgzE2aLJd"
      },
      "execution_count": 6,
      "outputs": []
    },
    {
      "cell_type": "code",
      "source": [
        "def outlier_thresholds(dataframe, col_name, q1=0.05, q3=0.95):\n",
        "    quartile1 = dataframe[col_name].quantile(q1)\n",
        "    quartile3 = dataframe[col_name].quantile(q3)\n",
        "    interquantile_range = quartile3 - quartile1\n",
        "    up_limit = quartile3 + 1.5 * interquantile_range\n",
        "    low_limit = quartile1 - 1.5 * interquantile_range\n",
        "    return low_limit, up_limit\n",
        "\n",
        "def check_outlier(dataframe, col_name):\n",
        "    low_limit, up_limit = outlier_thresholds(dataframe, col_name)\n",
        "    if dataframe[(dataframe[col_name] > up_limit) | (dataframe[col_name] < low_limit)].any(axis=None):\n",
        "        return True\n",
        "    else:\n",
        "        return False\n",
        "\n",
        "def replace_with_thresholds(dataframe, variable):\n",
        "    low_limit, up_limit = outlier_thresholds(dataframe, variable)\n",
        "    dataframe.loc[(dataframe[variable] < low_limit), variable] = low_limit\n",
        "    dataframe.loc[(dataframe[variable] > up_limit), variable] = up_limit"
      ],
      "metadata": {
        "id": "XGzFBF4xWdFK"
      },
      "execution_count": 7,
      "outputs": []
    },
    {
      "cell_type": "code",
      "source": [
        "# BİZDE BU GRAPLAR VAR\n",
        "# Target'ın Analizi\n",
        "\n",
        "df[\"label\"].value_counts()\n",
        "sns.countplot(x=\"label\", data=df)\n",
        "plt.show()\n",
        "100 * df[\"label\"].value_counts() / len(df)\n",
        "\n",
        "# Feature'ların Analizi\n",
        "df.head()\n",
        "\n",
        "def plot_numerical_col(dataframe, numerical_col):\n",
        "    dataframe[numerical_col].hist(bins=20)\n",
        "    plt.xlabel(numerical_col)\n",
        "    plt.show(block=True)\n",
        "\n",
        "for col in df.columns:\n",
        "    plot_numerical_col(df, col)\n",
        "\n",
        "cols = [col for col in df.columns if \"label\" not in col]\n",
        "\n",
        "# for col in cols:\n",
        "#     plot_numerical_col(df, col)\n",
        "\n",
        "df.describe().T"
      ],
      "metadata": {
        "id": "Tj634iIAgqDc"
      },
      "execution_count": null,
      "outputs": []
    },
    {
      "cell_type": "code",
      "source": [
        "#  BU DA VAR\n",
        "# Target vs Features\n",
        "\n",
        "def target_summary_with_num(dataframe, target, numerical_col):\n",
        "    print(dataframe.groupby(target).agg({numerical_col: \"mean\"}), end=\"\\n\\n\\n\")\n",
        "\n",
        "for col in cols:\n",
        "    target_summary_with_num(df, \"label\", col)"
      ],
      "metadata": {
        "id": "p0ahpTt1g076"
      },
      "execution_count": null,
      "outputs": []
    },
    {
      "cell_type": "markdown",
      "source": [
        "Data Preprocessing"
      ],
      "metadata": {
        "id": "GxBrUXokg-H8"
      }
    },
    {
      "cell_type": "code",
      "source": [
        "df.shape\n",
        "df.head()\n",
        "\n",
        "df.isnull().sum()\n",
        "\n",
        "df.describe().T"
      ],
      "metadata": {
        "id": "OclAhEtthh5j"
      },
      "execution_count": null,
      "outputs": []
    },
    {
      "cell_type": "code",
      "source": [
        "for col in cols:\n",
        "    print(col, check_outlier(df, col))\n",
        "\n",
        "# replace_with_thresholds(df, \"değisken_adı\")"
      ],
      "metadata": {
        "id": "CCCPCtFCbG2J"
      },
      "execution_count": null,
      "outputs": []
    },
    {
      "cell_type": "code",
      "source": [
        "for col in cols:\n",
        "    df[col] = RobustScaler().fit_transform(df[[col]])\n",
        "\n",
        "df.head()"
      ],
      "metadata": {
        "id": "L_Hx4i-JhmoB"
      },
      "execution_count": null,
      "outputs": []
    },
    {
      "cell_type": "markdown",
      "source": [
        "Model Prediction"
      ],
      "metadata": {
        "id": "dv6z66cYhw0r"
      }
    },
    {
      "cell_type": "code",
      "source": [
        "y = df[\"label\"]\n",
        "X = df.drop([\"label\"], axis=1)\n",
        "\n",
        "log_model = LogisticRegression().fit(X, y)"
      ],
      "metadata": {
        "id": "-21g2bkWU06c"
      },
      "execution_count": 14,
      "outputs": []
    },
    {
      "cell_type": "code",
      "source": [
        "log_model.intercept_\n",
        "log_model.coef_\n",
        "\n",
        "y_pred = log_model.predict(X)\n",
        "\n",
        "y_pred[0:10]\n",
        "\n",
        "y[0:10]"
      ],
      "metadata": {
        "id": "_ZjhXOJfZ_Hm"
      },
      "execution_count": null,
      "outputs": []
    },
    {
      "cell_type": "markdown",
      "source": [
        "**Model Evaluation**"
      ],
      "metadata": {
        "id": "j9x3sjKbh2Hy"
      }
    },
    {
      "cell_type": "code",
      "source": [
        "def plot_confusion_matrix(y, y_pred):\n",
        "    acc = round(accuracy_score(y, y_pred), 2)\n",
        "    cm = confusion_matrix(y, y_pred)\n",
        "    sns.heatmap(cm, annot=True, fmt=\".0f\")\n",
        "    plt.xlabel('y_pred')\n",
        "    plt.ylabel('y')\n",
        "    plt.title('Accuracy Score: {0}'.format(acc), size=10)\n",
        "    plt.show()"
      ],
      "metadata": {
        "id": "lblOmhUAcfOd"
      },
      "execution_count": 16,
      "outputs": []
    },
    {
      "cell_type": "code",
      "source": [
        "plot_confusion_matrix(y, y_pred)\n",
        "print(classification_report(y, y_pred))"
      ],
      "metadata": {
        "id": "Q-EjRfhsch-a"
      },
      "execution_count": null,
      "outputs": []
    },
    {
      "cell_type": "code",
      "source": [
        "# ROC AUC- colabde çalışmadı\n",
        "y_prob = log_model.predict_proba(X)[:, 1]\n",
        "y_prob\n",
        "roc_auc_score(y, y_prob)"
      ],
      "metadata": {
        "id": "vmMYcj7Dh8LN"
      },
      "execution_count": null,
      "outputs": []
    },
    {
      "cell_type": "code",
      "source": [
        "#ROC-AUC\n",
        "y_prob = log_model.predict_proba(X)\n",
        "roc_auc = roc_auc_score(y ,y_prob, multi_class='ovr')\n",
        "print(roc_auc)"
      ],
      "metadata": {
        "colab": {
          "base_uri": "https://localhost:8080/"
        },
        "id": "tydJXRegkPPW",
        "outputId": "31ae4fa8-54eb-434a-ba0e-cdcbf656be21"
      },
      "execution_count": 26,
      "outputs": [
        {
          "output_type": "stream",
          "name": "stdout",
          "text": [
            "0.9996820346320348\n"
          ]
        }
      ]
    },
    {
      "cell_type": "markdown",
      "source": [
        "**Model Validation: Holdout**"
      ],
      "metadata": {
        "id": "f_s8EHWdiLnn"
      }
    },
    {
      "cell_type": "code",
      "source": [
        "X_train, X_test, y_train, y_test = train_test_split(X,\n",
        "                                                    y,\n",
        "                                                    test_size=0.20, random_state=17)\n",
        "\n",
        "log_model = LogisticRegression().fit(X_train, y_train)\n",
        "\n",
        "y_pred = log_model.predict(X_test)\n",
        "y_prob = log_model.predict_proba(X_test)[:, 1]\n",
        "\n",
        "print(classification_report(y_test, y_pred))"
      ],
      "metadata": {
        "id": "6uGH4llyfemm"
      },
      "execution_count": null,
      "outputs": []
    },
    {
      "cell_type": "code",
      "source": [
        "pip install sklearn.metrics==1.0"
      ],
      "metadata": {
        "id": "J1VDoJZRBHEP"
      },
      "execution_count": null,
      "outputs": []
    },
    {
      "cell_type": "code",
      "source": [
        "plot_roc_curve(log_model, X_test, y_test)\n",
        "plt.title('ROC Curve')\n",
        "plt.plot([0, 1], [0, 1], 'r--')\n",
        "plt.show()"
      ],
      "metadata": {
        "id": "1naR-tkzmE8t"
      },
      "execution_count": null,
      "outputs": []
    },
    {
      "cell_type": "code",
      "source": [
        "# AUC\n",
        "roc_auc_score(y, y_prob, multi_class='ovr')"
      ],
      "metadata": {
        "colab": {
          "base_uri": "https://localhost:8080/",
          "height": 338
        },
        "id": "ZD0BQfUbmIv9",
        "outputId": "4bfc38dc-92a4-48c0-811e-7be9e6962133"
      },
      "execution_count": 79,
      "outputs": [
        {
          "output_type": "error",
          "ename": "AxisError",
          "evalue": "ignored",
          "traceback": [
            "\u001b[0;31m---------------------------------------------------------------------------\u001b[0m",
            "\u001b[0;31mAxisError\u001b[0m                                 Traceback (most recent call last)",
            "\u001b[0;32m<ipython-input-79-a968a51b2b97>\u001b[0m in \u001b[0;36m<cell line: 2>\u001b[0;34m()\u001b[0m\n\u001b[1;32m      1\u001b[0m \u001b[0;31m# AUC\u001b[0m\u001b[0;34m\u001b[0m\u001b[0;34m\u001b[0m\u001b[0m\n\u001b[0;32m----> 2\u001b[0;31m \u001b[0mroc_auc_score\u001b[0m\u001b[0;34m(\u001b[0m\u001b[0my\u001b[0m\u001b[0;34m,\u001b[0m \u001b[0my_prob\u001b[0m\u001b[0;34m,\u001b[0m \u001b[0mmulti_class\u001b[0m\u001b[0;34m=\u001b[0m\u001b[0;34m'ovr'\u001b[0m\u001b[0;34m)\u001b[0m\u001b[0;34m\u001b[0m\u001b[0;34m\u001b[0m\u001b[0m\n\u001b[0m",
            "\u001b[0;32m/usr/local/lib/python3.10/dist-packages/sklearn/metrics/_ranking.py\u001b[0m in \u001b[0;36mroc_auc_score\u001b[0;34m(y_true, y_score, average, sample_weight, max_fpr, multi_class, labels)\u001b[0m\n\u001b[1;32m    564\u001b[0m         \u001b[0;32mif\u001b[0m \u001b[0mmulti_class\u001b[0m \u001b[0;34m==\u001b[0m \u001b[0;34m\"raise\"\u001b[0m\u001b[0;34m:\u001b[0m\u001b[0;34m\u001b[0m\u001b[0;34m\u001b[0m\u001b[0m\n\u001b[1;32m    565\u001b[0m             \u001b[0;32mraise\u001b[0m \u001b[0mValueError\u001b[0m\u001b[0;34m(\u001b[0m\u001b[0;34m\"multi_class must be in ('ovo', 'ovr')\"\u001b[0m\u001b[0;34m)\u001b[0m\u001b[0;34m\u001b[0m\u001b[0;34m\u001b[0m\u001b[0m\n\u001b[0;32m--> 566\u001b[0;31m         return _multiclass_roc_auc_score(\n\u001b[0m\u001b[1;32m    567\u001b[0m             \u001b[0my_true\u001b[0m\u001b[0;34m,\u001b[0m \u001b[0my_score\u001b[0m\u001b[0;34m,\u001b[0m \u001b[0mlabels\u001b[0m\u001b[0;34m,\u001b[0m \u001b[0mmulti_class\u001b[0m\u001b[0;34m,\u001b[0m \u001b[0maverage\u001b[0m\u001b[0;34m,\u001b[0m \u001b[0msample_weight\u001b[0m\u001b[0;34m\u001b[0m\u001b[0;34m\u001b[0m\u001b[0m\n\u001b[1;32m    568\u001b[0m         )\n",
            "\u001b[0;32m/usr/local/lib/python3.10/dist-packages/sklearn/metrics/_ranking.py\u001b[0m in \u001b[0;36m_multiclass_roc_auc_score\u001b[0;34m(y_true, y_score, labels, multi_class, average, sample_weight)\u001b[0m\n\u001b[1;32m    636\u001b[0m     \"\"\"\n\u001b[1;32m    637\u001b[0m     \u001b[0;31m# validation of the input y_score\u001b[0m\u001b[0;34m\u001b[0m\u001b[0;34m\u001b[0m\u001b[0m\n\u001b[0;32m--> 638\u001b[0;31m     \u001b[0;32mif\u001b[0m \u001b[0;32mnot\u001b[0m \u001b[0mnp\u001b[0m\u001b[0;34m.\u001b[0m\u001b[0mallclose\u001b[0m\u001b[0;34m(\u001b[0m\u001b[0;36m1\u001b[0m\u001b[0;34m,\u001b[0m \u001b[0my_score\u001b[0m\u001b[0;34m.\u001b[0m\u001b[0msum\u001b[0m\u001b[0;34m(\u001b[0m\u001b[0maxis\u001b[0m\u001b[0;34m=\u001b[0m\u001b[0;36m1\u001b[0m\u001b[0;34m)\u001b[0m\u001b[0;34m)\u001b[0m\u001b[0;34m:\u001b[0m\u001b[0;34m\u001b[0m\u001b[0;34m\u001b[0m\u001b[0m\n\u001b[0m\u001b[1;32m    639\u001b[0m         raise ValueError(\n\u001b[1;32m    640\u001b[0m             \u001b[0;34m\"Target scores need to be probabilities for multiclass \"\u001b[0m\u001b[0;34m\u001b[0m\u001b[0;34m\u001b[0m\u001b[0m\n",
            "\u001b[0;32m/usr/local/lib/python3.10/dist-packages/numpy/core/_methods.py\u001b[0m in \u001b[0;36m_sum\u001b[0;34m(a, axis, dtype, out, keepdims, initial, where)\u001b[0m\n\u001b[1;32m     46\u001b[0m def _sum(a, axis=None, dtype=None, out=None, keepdims=False,\n\u001b[1;32m     47\u001b[0m          initial=_NoValue, where=True):\n\u001b[0;32m---> 48\u001b[0;31m     \u001b[0;32mreturn\u001b[0m \u001b[0mumr_sum\u001b[0m\u001b[0;34m(\u001b[0m\u001b[0ma\u001b[0m\u001b[0;34m,\u001b[0m \u001b[0maxis\u001b[0m\u001b[0;34m,\u001b[0m \u001b[0mdtype\u001b[0m\u001b[0;34m,\u001b[0m \u001b[0mout\u001b[0m\u001b[0;34m,\u001b[0m \u001b[0mkeepdims\u001b[0m\u001b[0;34m,\u001b[0m \u001b[0minitial\u001b[0m\u001b[0;34m,\u001b[0m \u001b[0mwhere\u001b[0m\u001b[0;34m)\u001b[0m\u001b[0;34m\u001b[0m\u001b[0;34m\u001b[0m\u001b[0m\n\u001b[0m\u001b[1;32m     49\u001b[0m \u001b[0;34m\u001b[0m\u001b[0m\n\u001b[1;32m     50\u001b[0m def _prod(a, axis=None, dtype=None, out=None, keepdims=False,\n",
            "\u001b[0;31mAxisError\u001b[0m: axis 1 is out of bounds for array of dimension 1"
          ]
        }
      ]
    },
    {
      "cell_type": "markdown",
      "source": [
        "**Model Validation: 10-Fold Cross Validation**"
      ],
      "metadata": {
        "id": "TmbX7KJriTFW"
      }
    },
    {
      "cell_type": "code",
      "source": [
        "y = df[\"label\"]\n",
        "X = df.drop([\"label\"], axis=1)\n",
        "\n",
        "log_model = LogisticRegression().fit(X, y)\n",
        "\n",
        "cv_results = cross_validate(log_model,\n",
        "                            X, y,\n",
        "                            cv=5,\n",
        "                            scoring=[\"accuracy\", \"precision\", \"recall\", \"f1\", \"roc_auc\"])"
      ],
      "metadata": {
        "id": "zVJvixT_iT_E"
      },
      "execution_count": 81,
      "outputs": []
    },
    {
      "cell_type": "code",
      "source": [
        "print(cv_results['test_accuracy'].mean())\n",
        "print(cv_results['test_precision'].mean())\n",
        "print(cv_results['test_recall'].mean())\n",
        "print(cv_results['test_f1'].mean())\n",
        "print(cv_results['test_roc_auc'].mean())"
      ],
      "metadata": {
        "colab": {
          "base_uri": "https://localhost:8080/"
        },
        "id": "M22NoRpbifM6",
        "outputId": "f1dd2eb3-2fb7-4b55-896d-934890f7f845"
      },
      "execution_count": 85,
      "outputs": [
        {
          "output_type": "stream",
          "name": "stdout",
          "text": [
            "0.969090909090909\n",
            "nan\n",
            "nan\n",
            "nan\n",
            "nan\n"
          ]
        }
      ]
    },
    {
      "cell_type": "markdown",
      "source": [
        "\n",
        "**Prediction for A New Observation**"
      ],
      "metadata": {
        "id": "19zkUDiaiWiw"
      }
    },
    {
      "cell_type": "code",
      "source": [
        "X.columns\n",
        "\n",
        "random_user = X.sample(1, random_state=45)\n",
        "log_model.predict(random_user)"
      ],
      "metadata": {
        "colab": {
          "base_uri": "https://localhost:8080/"
        },
        "id": "Rmtpo25qiWt9",
        "outputId": "0198c04e-2c98-4dd6-8d2b-d9f0a7cdf53f"
      },
      "execution_count": 83,
      "outputs": [
        {
          "output_type": "execute_result",
          "data": {
            "text/plain": [
              "array(['coffee'], dtype=object)"
            ]
          },
          "metadata": {},
          "execution_count": 83
        }
      ]
    },
    {
      "cell_type": "code",
      "source": [],
      "metadata": {
        "id": "PewgplTDB5AN"
      },
      "execution_count": null,
      "outputs": []
    }
  ]
}